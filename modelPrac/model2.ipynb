{
 "cells": [
  {
   "cell_type": "code",
   "execution_count": 1,
   "id": "1ca1aee2",
   "metadata": {},
   "outputs": [],
   "source": [
    "import tensorflow as tf\n",
    "from tensorflow.keras.layers import Input, Embedding, LSTM, Dense, Attention\n",
    "from tensorflow.keras.models import Model"
   ]
  },
  {
   "cell_type": "code",
   "execution_count": 2,
   "id": "390bd82c",
   "metadata": {},
   "outputs": [],
   "source": [
    "max_len = 50\n",
    "input_shape = (max_len,)\n"
   ]
  },
  {
   "cell_type": "code",
   "execution_count": 3,
   "id": "643e2fdc",
   "metadata": {},
   "outputs": [],
   "source": [
    "vocab_size = 5000\n",
    "embed_dim = 256\n"
   ]
  },
  {
   "cell_type": "code",
   "execution_count": 4,
   "id": "e1bef556",
   "metadata": {},
   "outputs": [],
   "source": [
    "encoder_inputs = Input(shape=input_shape)"
   ]
  },
  {
   "cell_type": "code",
   "execution_count": 5,
   "id": "e6178465",
   "metadata": {},
   "outputs": [],
   "source": [
    "encoder_embedding = Embedding(input_dim=vocab_size, output_dim=embed_dim)(encoder_inputs)"
   ]
  },
  {
   "cell_type": "code",
   "execution_count": 6,
   "id": "0a1c86b3",
   "metadata": {},
   "outputs": [],
   "source": [
    "encoder_lstm = LSTM(units=256, return_sequences=True, return_state=True)\n"
   ]
  },
  {
   "cell_type": "code",
   "execution_count": 7,
   "id": "17900c05",
   "metadata": {},
   "outputs": [],
   "source": [
    "encoder_outputs, state_h, state_c = encoder_lstm(encoder_embedding)"
   ]
  },
  {
   "cell_type": "code",
   "execution_count": 9,
   "id": "12809da5",
   "metadata": {},
   "outputs": [],
   "source": [
    "decoder_inputs = Input(shape=input_shape)\n",
    "\n",
    "decoder_embedding = Embedding(input_dim=vocab_size, output_dim=embed_dim)(decoder_inputs)\n",
    "\n",
    "decoder_lstm = LSTM(units=256, return_sequences=True, return_state=True)\n",
    "\n",
    "decoder_outputs, _, _ = decoder_lstm(decoder_embedding, initial_state=[state_h, state_c])\n",
    "\n",
    "attention_layer = Attention()\n",
    "\n",
    "attention_output = attention_layer([decoder_outputs, encoder_outputs])\n",
    "\n",
    "# Define output dense layer\n",
    "output_dense = Dense(units=vocab_size, activation='softmax')\n",
    "\n",
    "# Generate the output sequence\n",
    "outputs = output_dense(attention_output)\n",
    "\n",
    "# Define the model\n",
    "model = Model([encoder_inputs, decoder_inputs], outputs)\n",
    "\n",
    "# Compile the model\n",
    "model.compile(optimizer='adam', loss='categorical_crossentropy', metrics=['accuracy'])"
   ]
  },
  {
   "cell_type": "code",
   "execution_count": null,
   "id": "ae876ab0",
   "metadata": {},
   "outputs": [],
   "source": []
  }
 ],
 "metadata": {
  "kernelspec": {
   "display_name": "Python 3 (ipykernel)",
   "language": "python",
   "name": "python3"
  },
  "language_info": {
   "codemirror_mode": {
    "name": "ipython",
    "version": 3
   },
   "file_extension": ".py",
   "mimetype": "text/x-python",
   "name": "python",
   "nbconvert_exporter": "python",
   "pygments_lexer": "ipython3",
   "version": "3.10.10"
  }
 },
 "nbformat": 4,
 "nbformat_minor": 5
}
